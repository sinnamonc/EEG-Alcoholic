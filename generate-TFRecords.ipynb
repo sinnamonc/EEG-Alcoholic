{
 "cells": [
  {
   "cell_type": "code",
   "execution_count": 3,
   "metadata": {},
   "outputs": [],
   "source": [
    "from data_preprocessing import generate_TFRecords"
   ]
  },
  {
   "cell_type": "code",
   "execution_count": 4,
   "metadata": {},
   "outputs": [
    {
     "name": "stdout",
     "output_type": "stream",
     "text": [
      "Generating...\n",
      "Error loading  co2c1000367.rd.029\n",
      "Error loading  co2c1000367.rd.105\n",
      "Error loading  co2c1000367.rd.037\n",
      "Error loading  co2c1000367.rd.042\n",
      "Error loading  co2c1000367.rd.113\n",
      "Error loading  co2c1000367.rd.114\n",
      "Error loading  co2c1000367.rd.089\n",
      "Error loading  co2c1000367.rd.117\n",
      "Error loading  co2c1000367.rd.090\n",
      "Error loading  co2c1000367.rd.053\n",
      "Error loading  co2c1000367.rd.004\n",
      "Error loading  co2c1000367.rd.023\n",
      "Error loading  co2c1000367.rd.054\n",
      "Error loading  co2c1000367.rd.006\n",
      "Error loading  co2c1000367.rd.116\n",
      "Error loading  co2c1000367.rd.065\n",
      "Error loading  co2c1000367.rd.005\n",
      "Generation Complete.\n"
     ]
    }
   ],
   "source": [
    "generate_TFRecords()"
   ]
  }
 ],
 "metadata": {
  "kernelspec": {
   "display_name": "Python 3",
   "language": "python",
   "name": "python3"
  },
  "language_info": {
   "codemirror_mode": {
    "name": "ipython",
    "version": 3
   },
   "file_extension": ".py",
   "mimetype": "text/x-python",
   "name": "python",
   "nbconvert_exporter": "python",
   "pygments_lexer": "ipython3",
   "version": "3.5.2"
  }
 },
 "nbformat": 4,
 "nbformat_minor": 2
}
